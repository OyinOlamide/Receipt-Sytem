{
  "nbformat": 4,
  "nbformat_minor": 0,
  "metadata": {
    "colab": {
      "name": "Receipt system.ipynb",
      "provenance": [],
      "collapsed_sections": [],
      "authorship_tag": "ABX9TyON5hpjRB3U7iLyWDm5vi22",
      "include_colab_link": true
    },
    "kernelspec": {
      "name": "python3",
      "display_name": "Python 3"
    }
  },
  "cells": [
    {
      "cell_type": "markdown",
      "metadata": {
        "id": "view-in-github",
        "colab_type": "text"
      },
      "source": [
        "<a href=\"https://colab.research.google.com/github/OyinOlamide/Receipt-Sytem/blob/main/Receipt_system.ipynb\" target=\"_parent\"><img src=\"https://colab.research.google.com/assets/colab-badge.svg\" alt=\"Open In Colab\"/></a>"
      ]
    },
    {
      "cell_type": "markdown",
      "metadata": {
        "id": "c2MvrvJINRFa"
      },
      "source": [
        "# **RECEIPTS FOR ZURI THRIFT**\r\n",
        "\r\n",
        "**I intend to build a system that creates receipts for Zuri Thrift, a thrift clothing business, with ease.**"
      ]
    },
    {
      "cell_type": "markdown",
      "metadata": {
        "id": "b-BxcK6kSJur"
      },
      "source": [
        "Description for available items"
      ]
    },
    {
      "cell_type": "code",
      "metadata": {
        "id": "y_b5BepNQAMD"
      },
      "source": [
        "Zara_dress = \"Zara, size 8, cold shoulder dinner dress.\"\r\n",
        "Next_top = \"Next off shoulder size 10 top.\"\r\n",
        "Primark_gown = \"Primark size 5, ruffled print dress\"\r\n",
        "PLT_dress = \"Pretty Little Thing size 12, mini gown\""
      ],
      "execution_count": 1,
      "outputs": []
    },
    {
      "cell_type": "markdown",
      "metadata": {
        "id": "eTE_PhFjUI4I"
      },
      "source": [
        "Prices of available items."
      ]
    },
    {
      "cell_type": "code",
      "metadata": {
        "id": "GKANCQzDUUt4"
      },
      "source": [
        "Zara_dress_price = 300\r\n",
        "Next_top_price = 250\r\n",
        "Primark_gown_price = 350\r\n",
        "PLT_dress_price = 300"
      ],
      "execution_count": 3,
      "outputs": []
    },
    {
      "cell_type": "markdown",
      "metadata": {
        "id": "XI2L3VncW4r6"
      },
      "source": [
        "Tax payable is 7.5%"
      ]
    },
    {
      "cell_type": "code",
      "metadata": {
        "id": "tDHBI9bCW2tk"
      },
      "source": [
        "Tax = .075"
      ],
      "execution_count": 4,
      "outputs": []
    },
    {
      "cell_type": "markdown",
      "metadata": {
        "id": "iuFnunSYaZM6"
      },
      "source": [
        "# **First Client**\r\n",
        "\r\n",
        "First client is Eseosa, a friend."
      ]
    },
    {
      "cell_type": "code",
      "metadata": {
        "id": "C_wAT3zEar7N"
      },
      "source": [
        "Eseosa_order = PLT_dress"
      ],
      "execution_count": 5,
      "outputs": []
    },
    {
      "cell_type": "code",
      "metadata": {
        "id": "sgm7klkMeIIg"
      },
      "source": [
        "Eseosa_total = 300"
      ],
      "execution_count": 7,
      "outputs": []
    },
    {
      "cell_type": "markdown",
      "metadata": {
        "id": "xNMnnmDReZWI"
      },
      "source": [
        "Eseosa likes and picks up the Primark dress for her friend."
      ]
    },
    {
      "cell_type": "code",
      "metadata": {
        "id": "7o8Yb6f-eKh-"
      },
      "source": [
        "Eseosa_order = PLT_dress, Primark_gown"
      ],
      "execution_count": 8,
      "outputs": []
    },
    {
      "cell_type": "code",
      "metadata": {
        "id": "ELftUsklexRU"
      },
      "source": [
        "Eseosa_total += 350"
      ],
      "execution_count": 9,
      "outputs": []
    },
    {
      "cell_type": "markdown",
      "metadata": {
        "id": "CBqFItoqfE31"
      },
      "source": [
        "Now we calculate Eseosa's tax so we can know her final total"
      ]
    },
    {
      "cell_type": "code",
      "metadata": {
        "id": "nn2gw5ABfEWX"
      },
      "source": [
        "Eseosa_tax = Eseosa_total * Tax"
      ],
      "execution_count": 10,
      "outputs": []
    },
    {
      "cell_type": "markdown",
      "metadata": {
        "id": "jCYVNws3gI8-"
      },
      "source": [
        "Eseosa's final total will include her tax."
      ]
    },
    {
      "cell_type": "code",
      "metadata": {
        "id": "fPUMfdL-f7_w"
      },
      "source": [
        "Eseosa_total += Eseosa_tax"
      ],
      "execution_count": 13,
      "outputs": []
    },
    {
      "cell_type": "code",
      "metadata": {
        "colab": {
          "base_uri": "https://localhost:8080/"
        },
        "id": "FfaYm8-9geS3",
        "outputId": "a7ca9916-39e1-4e22-996d-fc0632f41a1f"
      },
      "source": [
        "Eseosa_receipt = print(\"Eseosa_items:\")\r\n",
        "print(Eseosa_order)\r\n",
        "\r\n",
        "print(\"Eseosa_final_total:\")\r\n",
        "print(Eseosa_total)"
      ],
      "execution_count": 19,
      "outputs": [
        {
          "output_type": "stream",
          "text": [
            "Eseosa_items:\n",
            "('Pretty Little Thing size 12, mini gown', 'Primark size 5, ruffled print dress')\n",
            "Eseosa_final_total:\n",
            "796.25\n"
          ],
          "name": "stdout"
        }
      ]
    }
  ]
}